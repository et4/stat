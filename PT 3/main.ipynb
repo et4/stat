{
 "cells": [
  {
   "cell_type": "code",
   "execution_count": 3,
   "metadata": {
    "collapsed": true
   },
   "outputs": [],
   "source": [
    "import numpy as np\n",
    "import pandas as pd\n",
    "from matplotlib import pyplot as plt\n",
    "%matplotlib inline\n",
    "from scipy.cluster.hierarchy import dendrogram, linkage\n",
    "import pydotplus\n",
    "from sklearn.cluster import KMeans, DBSCAN\n",
    "from sklearn.metrics import silhouette_score, accuracy_score\n",
    "from sklearn.model_selection import train_test_split, GridSearchCV\n",
    "from sklearn.tree import DecisionTreeClassifier, export_graphviz\n",
    "from sklearn.ensemble import RandomForestRegressor, RandomForestClassifier\n",
    "from sklearn.neighbors import KNeighborsClassifier\n",
    "from sklearn.model_selection import GridSearchCV, cross_val_score\n",
    "from sklearn.linear_model import LogisticRegression\n",
    "from sklearn.preprocessing import StandardScaler\n",
    "from sklearn.naive_bayes import BernoulliNB\n",
    "from sklearn.naive_bayes import MultinomialNB"
   ]
  },
  {
   "cell_type": "code",
   "execution_count": 4,
   "metadata": {},
   "outputs": [],
   "source": [
    "data = pd.read_csv('my_data.csv')\n",
    "data['Gender'] = data['Gender'].map({'Мужской': 1, 'Женский': 0})\n",
    "data = data[['Age', 'Gender', 'BMI', 'endocrinology', 'digestive',\n",
    "       'neurology', 'urinary', 'musculoskeletal', 'gynecological',\n",
    "       'blood', 'lower_respiratory']]"
   ]
  },
  {
   "cell_type": "code",
   "execution_count": 5,
   "metadata": {},
   "outputs": [
    {
     "data": {
      "text/html": [
       "<div>\n",
       "<style>\n",
       "    .dataframe thead tr:only-child th {\n",
       "        text-align: right;\n",
       "    }\n",
       "\n",
       "    .dataframe thead th {\n",
       "        text-align: left;\n",
       "    }\n",
       "\n",
       "    .dataframe tbody tr th {\n",
       "        vertical-align: top;\n",
       "    }\n",
       "</style>\n",
       "<table border=\"1\" class=\"dataframe\">\n",
       "  <thead>\n",
       "    <tr style=\"text-align: right;\">\n",
       "      <th></th>\n",
       "      <th>Age</th>\n",
       "      <th>Gender</th>\n",
       "      <th>BMI</th>\n",
       "      <th>endocrinology</th>\n",
       "      <th>digestive</th>\n",
       "      <th>neurology</th>\n",
       "      <th>urinary</th>\n",
       "      <th>musculoskeletal</th>\n",
       "      <th>gynecological</th>\n",
       "      <th>blood</th>\n",
       "      <th>lower_respiratory</th>\n",
       "    </tr>\n",
       "  </thead>\n",
       "  <tbody>\n",
       "    <tr>\n",
       "      <th>0</th>\n",
       "      <td>67.0</td>\n",
       "      <td>1</td>\n",
       "      <td>9.47</td>\n",
       "      <td>0.0</td>\n",
       "      <td>0.0</td>\n",
       "      <td>0.0</td>\n",
       "      <td>0.0</td>\n",
       "      <td>0.0</td>\n",
       "      <td>0.0</td>\n",
       "      <td>0.0</td>\n",
       "      <td>0.0</td>\n",
       "    </tr>\n",
       "    <tr>\n",
       "      <th>1</th>\n",
       "      <td>24.0</td>\n",
       "      <td>1</td>\n",
       "      <td>23.80</td>\n",
       "      <td>0.0</td>\n",
       "      <td>0.0</td>\n",
       "      <td>0.0</td>\n",
       "      <td>0.0</td>\n",
       "      <td>0.0</td>\n",
       "      <td>0.0</td>\n",
       "      <td>0.0</td>\n",
       "      <td>0.0</td>\n",
       "    </tr>\n",
       "    <tr>\n",
       "      <th>2</th>\n",
       "      <td>50.0</td>\n",
       "      <td>1</td>\n",
       "      <td>24.25</td>\n",
       "      <td>0.0</td>\n",
       "      <td>0.0</td>\n",
       "      <td>0.0</td>\n",
       "      <td>0.0</td>\n",
       "      <td>0.0</td>\n",
       "      <td>0.0</td>\n",
       "      <td>0.0</td>\n",
       "      <td>0.0</td>\n",
       "    </tr>\n",
       "    <tr>\n",
       "      <th>3</th>\n",
       "      <td>50.0</td>\n",
       "      <td>1</td>\n",
       "      <td>24.25</td>\n",
       "      <td>0.0</td>\n",
       "      <td>0.0</td>\n",
       "      <td>0.0</td>\n",
       "      <td>0.0</td>\n",
       "      <td>0.0</td>\n",
       "      <td>0.0</td>\n",
       "      <td>0.0</td>\n",
       "      <td>1.0</td>\n",
       "    </tr>\n",
       "    <tr>\n",
       "      <th>4</th>\n",
       "      <td>50.0</td>\n",
       "      <td>1</td>\n",
       "      <td>24.25</td>\n",
       "      <td>0.0</td>\n",
       "      <td>0.0</td>\n",
       "      <td>0.0</td>\n",
       "      <td>0.0</td>\n",
       "      <td>0.0</td>\n",
       "      <td>0.0</td>\n",
       "      <td>0.0</td>\n",
       "      <td>0.0</td>\n",
       "    </tr>\n",
       "  </tbody>\n",
       "</table>\n",
       "</div>"
      ],
      "text/plain": [
       "    Age  Gender    BMI  endocrinology  digestive  neurology  urinary  \\\n",
       "0  67.0       1   9.47            0.0        0.0        0.0      0.0   \n",
       "1  24.0       1  23.80            0.0        0.0        0.0      0.0   \n",
       "2  50.0       1  24.25            0.0        0.0        0.0      0.0   \n",
       "3  50.0       1  24.25            0.0        0.0        0.0      0.0   \n",
       "4  50.0       1  24.25            0.0        0.0        0.0      0.0   \n",
       "\n",
       "   musculoskeletal  gynecological  blood  lower_respiratory  \n",
       "0              0.0            0.0    0.0                0.0  \n",
       "1              0.0            0.0    0.0                0.0  \n",
       "2              0.0            0.0    0.0                0.0  \n",
       "3              0.0            0.0    0.0                1.0  \n",
       "4              0.0            0.0    0.0                0.0  "
      ]
     },
     "execution_count": 5,
     "metadata": {},
     "output_type": "execute_result"
    }
   ],
   "source": [
    "data.head()"
   ]
  },
  {
   "cell_type": "code",
   "execution_count": 40,
   "metadata": {
    "collapsed": true
   },
   "outputs": [],
   "source": [
    "data = pd.DataFrame(data=StandardScaler().fit_transform(data), columns=data.columns)\n",
    "data_for_clustering = data[:10000]"
   ]
  },
  {
   "cell_type": "markdown",
   "metadata": {},
   "source": [
    "Clustering:"
   ]
  },
  {
   "cell_type": "markdown",
   "metadata": {},
   "source": [
    "KMeans:"
   ]
  },
  {
   "cell_type": "code",
   "execution_count": 61,
   "metadata": {
    "scrolled": true
   },
   "outputs": [
    {
     "name": "stdout",
     "output_type": "stream",
     "text": [
      "2 [0 0 0 ..., 1 1 1] 0.132282900132\n",
      "3 [0 0 0 ..., 2 2 0] 0.134759761173\n",
      "4 [1 1 1 ..., 2 2 0] 0.168554705349\n",
      "5 [2 2 2 ..., 1 1 1] 0.188607671745\n",
      "6 [1 1 1 ..., 2 2 2] 0.195783923548\n",
      "7 [2 2 2 ..., 3 3 4] 0.192215688331\n",
      "8 [0 0 0 ..., 3 3 7] 0.205111198806\n",
      "9 [4 4 4 ..., 2 2 1] 0.213254880609\n",
      "10 [0 3 0 ..., 1 1 4] 0.229424193101\n",
      "11 [10  2 10 ...,  1  1  0] 0.233267560273\n",
      "12 [9 8 9 ..., 1 1 4] 0.245790919205\n",
      "13 [ 0 10  0 ..., 12 12 11] 0.255324674696\n",
      "14 [11  2 11 ...,  1  1  0] 0.265395845411\n",
      "15 [ 5 14  5 ...,  1  1  7] 0.270547582725\n",
      "16 [13  9 13 ...,  7  7  1] 0.269441547144\n",
      "17 [12 16 12 ..., 14 14  4] 0.249849724041\n",
      "18 [ 3 12  3 ..., 10 10  4] 0.285217112508\n",
      "19 [ 4 17  4 ..., 15 15 11] 0.288652476333\n",
      "20 [ 0  4  0 ..., 14 14  5] 0.303980405337\n",
      "21 [10 15 10 ..., 20 20  2] 0.296481942243\n",
      "22 [11  3 11 ...,  2  2  6] 0.303034919342\n",
      "23 [14  2 14 ...,  1  1  0] 0.281747236825\n",
      "24 [4 2 4 ..., 9 9 6] 0.308828779884\n",
      "25 [14  2 14 ...,  1  1  0] 0.28788299882\n",
      "26 [13  5 13 ...,  4  4 24] 0.310710453226\n",
      "27 [14  2 26 ...,  1  1  0] 0.275614803341\n",
      "28 [14  2 26 ...,  1  1  0] 0.284540112723\n",
      "29 [ 0 15  0 ...,  8  8  3] 0.295317951239\n",
      "30 [ 0 14  0 ..., 15 15  3] 0.297415344531\n",
      "31 [ 2  9  2 ..., 10 10  0] 0.302835749332\n",
      "32 [ 4 19  4 ..., 21 21  1] 0.306318727565\n",
      "33 [23 14 23 ..., 18 18  1] 0.322241834002\n",
      "34 [ 8 22 13 ..., 23 23  9] 0.305053024205\n",
      "35 [ 7 12  7 ...,  5  5 20] 0.315089389867\n",
      "36 [ 0 19  0 ...,  1  1 28] 0.321973817427\n",
      "37 [ 4 15  4 ..., 26 26 25] 0.30988075278\n",
      "38 [17 25 17 ...,  9  9 31] 0.313063248381\n",
      "39 [18  0 18 ..., 17 17 15] 0.315834886741\n",
      "40 [16 12 16 ..., 17 17 32] 0.326982603078\n",
      "41 [ 0 22  0 ..., 13 13 24] 0.317651929327\n",
      "42 [14  2 26 ...,  1  1  0] 0.313888577616\n",
      "43 [13 40  5 ...,  6  6  2] 0.304441102932\n",
      "44 [ 3 13 17 ..., 25 25 18] 0.314759841484\n",
      "45 [ 9  3 39 ...,  4  4  0] 0.310373305686\n",
      "46 [43  5  9 ...,  4  4 21] 0.308362030249\n",
      "47 [ 9 10  0 ..., 25 25 44] 0.305495166784\n",
      "48 [30  0 16 ..., 40 40 21] 0.307566515419\n",
      "49 [10  3 41 ...,  0  0  1] 0.319772113247\n",
      "50 [16 34  7 ..., 14 14  3] 0.324534862522\n",
      "51 [12  1 37 ...,  4  4  2] 0.31185766206\n",
      "52 [28  1 12 ..., 17 17  3] 0.318730065091\n",
      "53 [45 23 44 ..., 18 18  8] 0.323495562322\n",
      "54 [ 2  9 11 ..., 31 31  0] 0.315907005987\n",
      "55 [ 8  7  8 ..., 10 10 28] 0.316299711769\n",
      "56 [11  2 44 ...,  6  6 10] 0.330671916888\n",
      "57 [30 23  1 ..., 39 39 37] 0.332380490725\n",
      "58 [34  3 17 ..., 44 44 14] 0.324374797592\n",
      "59 [14  2 44 ...,  8  8  6] 0.332622759698\n",
      "60 [ 8  5 56 ...,  2  2 19] 0.323493255475\n",
      "61 [48 13  3 ...,  8  8 17] 0.327971130242\n",
      "62 [ 2 16 41 ...,  7  7 46] 0.330128187269\n",
      "63 [13  8 40 ...,  7  7 18] 0.336253582123\n",
      "64 [57  0  5 ..., 11 11  3] 0.329424584792\n",
      "65 [ 2 15 12 ...,  8  8 17] 0.327122647305\n",
      "66 [13  3 54 ..., 25 25 20] 0.32954732936\n",
      "67 [57  2  8 ...,  7  7 43] 0.335738138441\n",
      "68 [40 45 14 ...,  9  9  5] 0.316534318769\n",
      "69 [49 51 25 ..., 50 50  4] 0.324488609376\n",
      "70 [66  9 15 ...,  6  6 56] 0.329932210433\n",
      "71 [64 26  0 ..., 29 29 27] 0.341000124918\n",
      "72 [52  9  3 ..., 14 14 64] 0.338001708159\n",
      "73 [32  1 68 ...,  8  8 30] 0.334225604471\n",
      "74 [50 10  0 ..., 13 13 26] 0.33670975963\n",
      "75 [16 25 10 ...,  7  7 51] 0.338637211884\n",
      "76 [ 0 22  2 ..., 12 12 32] 0.332879373445\n",
      "77 [55 27  0 ...,  5  5 13] 0.328133255538\n",
      "78 [63 47  1 ..., 72 72 16] 0.333702907517\n",
      "79 [27 43 10 ..., 18 18 48] 0.333905275332\n",
      "80 [40 21 15 ...,  8  8 72] 0.333940784557\n",
      "81 [45 19  4 ..., 26 26 69] 0.350184207959\n",
      "82 [65 33 65 ..., 32 32 56] 0.336726441189\n",
      "83 [72 16 62 ...,  3  3 64] 0.34475577097\n",
      "84 [12 26 79 ..., 39 39 28] 0.344471703822\n",
      "85 [ 0  8 10 ...,  1  1 81] 0.342372915125\n",
      "86 [82 13 58 ..., 48 48 27] 0.335457501276\n",
      "87 [65  8 57 ..., 59 59 42] 0.337921449013\n",
      "88 [34 42 85 ..., 27 27 83] 0.340329006855\n",
      "89 [42 32 10 ..., 31 31 25] 0.338676426791\n",
      "90 [74 77 71 ..., 14 14 88] 0.352964679363\n",
      "91 [89 50  2 ..., 58 58 56] 0.338737481868\n",
      "92 [51 12 48 ...,  9  9 41] 0.341806438256\n",
      "93 [51 79  3 ..., 12 12 38] 0.335488931562\n",
      "94 [33 18  1 ..., 52 52 57] 0.345307003251\n",
      "95 [22 52 16 ..., 80 80 10] 0.341061497202\n",
      "96 [60 23  6 ..., 10 10 28] 0.340474076968\n",
      "97 [60 26  6 ..., 28 28 11] 0.345230791175\n",
      "98 [24 26  1 ..., 82 82 34] 0.350705458591\n",
      "99 [15 13 23 ..., 11 11  8] 0.343568439403\n",
      "100 [15  2 89 ..., 14 14 45] 0.344963292741\n",
      "101 [11 43 72 ..., 48 48 58] 0.346561643326\n",
      "102 [39 99  1 ..., 16 16 57] 0.348160109388\n",
      "103 [93 56  6 ..., 61 61 87] 0.339772706306\n",
      "104 [90 65  0 ..., 16 16  2] 0.34700897334\n",
      "105 [17 18  1 ..., 25 25 73] 0.351630672898\n",
      "106 [56 97 82 ...,  9  9 45] 0.352637181063\n",
      "107 [63 72  5 ..., 10 10 87] 0.343964745611\n",
      "108 [85 18 56 ...,  6  6 12] 0.352606144373\n",
      "109 [68 44  9 ..., 17 17 26] 0.352770425108\n",
      "110 [56 80  1 ..., 63 63 49] 0.348732799869\n",
      "111 [58 53 66 ..., 80 80 23] 0.344529726581\n",
      "112 [26 19  4 ..., 17 17 84] 0.341117061093\n",
      "113 [ 3 75 22 ..., 91 91 51] 0.349966732978\n",
      "114 [ 99 100  38 ...,  10  10  22] 0.353510088452\n",
      "115 [101  25  80 ...,   2   2   3] 0.352868856812\n",
      "116 [  2  19 105 ...,  61  61   3] 0.360297077251\n",
      "117 [57  3 47 ..., 21 21 90] 0.351769851081\n",
      "118 [86 17  8 ..., 66 66  1] 0.358631719705\n",
      "119 [38 16 73 ..., 10 10 71] 0.352453074725\n",
      "120 [ 86  11 115 ...,  84  84   3] 0.34903996041\n",
      "121 [ 29  42 120 ...,  87  87  46] 0.351778652225\n",
      "122 [68 52 14 ..., 76 76 45] 0.35520021982\n",
      "123 [ 9 38  3 ..., 11 11 20] 0.35530878087\n",
      "124 [ 2 11 47 ...,  3  3 19] 0.351919457781\n",
      "125 [72 68 10 ...,  4  4 56] 0.349518683883\n",
      "126 [100  34 125 ...,  54  54  29] 0.35325984165\n",
      "127 [24 11 92 ..., 26 26  1] 0.356619885035\n",
      "128 [97 14 86 ..., 71 71  1] 0.351226399883\n",
      "129 [ 19  35 118 ..., 104 104  27] 0.353332113009\n",
      "130 [104  45  98 ...,  70  70  14] 0.353542858291\n",
      "131 [123  20   5 ...,  72  72  60] 0.354809620063\n",
      "132 [ 61  21  92 ...,  75  75 110] 0.353295853499\n",
      "133 [15  2 89 ..., 14 14 45] 0.357789426756\n",
      "134 [128   2 118 ...,  19  19 100] 0.353904518447\n",
      "135 [105  88  11 ...,  51  51  72] 0.356803248451\n",
      "136 [25 16 12 ..., 18 18 21] 0.36053250117\n",
      "137 [ 2 87 13 ...,  9  9 23] 0.357931062513\n",
      "138 [31 14  4 ..., 22 22 26] 0.360659654279\n",
      "139 [ 13  50 127 ...,  65  65  88] 0.361988911347\n",
      "140 [47 23  7 ..., 94 94 25] 0.352854622003\n",
      "141 [ 98 101 113 ..., 134 134 111] 0.360039899661\n",
      "142 [84 12 48 ..., 16 16 72] 0.359064470153\n",
      "143 [ 21   9 127 ...,  13  13  38] 0.35958402838\n",
      "144 [113  43  11 ..., 109 109  37] 0.357306713462\n",
      "145 [  0  57  15 ..., 114 114  94] 0.360309669345\n",
      "146 [ 97   8 113 ...,  13  13 129] 0.353362528986\n",
      "147 [136  10  79 ...,  46  46 115] 0.359515486791\n",
      "148 [102   5  74 ...,  49  49  41] 0.357379302703\n",
      "149 [148  46  25 ...,   9   9 131] 0.358658285792\n",
      "150 [91 79 93 ...,  5  5 78] 0.364116036092\n",
      "151 [ 26  23 131 ..., 106 106  37] 0.359912058724\n",
      "152 [ 93  21  11 ...,  15  15 130] 0.359139338271\n",
      "153 [86  0 96 ..., 58 58 87] 0.360047305356\n",
      "154 [  9   2  80 ..., 109 109  38] 0.364084113631\n",
      "155 [117  24  48 ..., 124 124  72] 0.348467746898\n",
      "156 [77 30  6 ..., 11 11 93] 0.359824749353\n",
      "157 [119  42   8 ...,   4   4 118] 0.36421979007\n",
      "158 [  8  47 146 ...,  61  61   9] 0.360627058197\n",
      "159 [127  33  69 ...,  13  13  38] 0.361025312848\n",
      "160 [147 134 104 ...,  12  12  48] 0.35984750064\n",
      "161 [  2 144  21 ...,  17  17  86] 0.357154010865\n",
      "162 [ 88  60  37 ..., 121 121  17] 0.360310980583\n",
      "163 [91 18  1 ...,  9  9 21] 0.367348854519\n",
      "164 [131  87  11 ..., 101 101 118] 0.367864701161\n",
      "165 [ 82 146 122 ...,   9   9  27] 0.361886899718\n",
      "166 [ 74  17 111 ..., 154 154 104] 0.373139413827\n",
      "167 [165  23 131 ...,   3   3  89] 0.361360329954\n",
      "168 [ 33 104 167 ..., 143 143 142] 0.363418568743\n",
      "169 [105  24   0 ...,  22  22  32] 0.365394073201\n",
      "170 [120  10  85 ..., 105 105  25] 0.361291384107\n",
      "171 [145   9   3 ..., 102 102 146] 0.370943832127\n",
      "172 [141 109  68 ...,  53  53 155] 0.366155268314\n",
      "173 [154  23   1 ...,  83  83  10] 0.364096201288\n",
      "174 [161   8  22 ..., 145 145 135] 0.367303374146\n",
      "175 [113  45  70 ...,  20  20  71] 0.363761853243\n",
      "176 [ 36  19   0 ..., 156 156 146] 0.357288708153\n",
      "177 [70 14 89 ..., 90 90 72] 0.362165831005\n",
      "178 [ 81  13 148 ...,  22  22  72] 0.367087630628\n",
      "179 [76 51 10 ..., 55 55  0] 0.361694773686\n",
      "180 [122  37 154 ...,  17  17 119] 0.368160752197\n",
      "181 [133  53  67 ..., 174 174  26] 0.363712616354\n",
      "182 [155  16  10 ...,  11  11   4] 0.362934249742\n",
      "183 [144   6  65 ...,   8   8  24] 0.36408985961\n",
      "184 [ 78  61  14 ...,  18  18 157] 0.367071397577\n",
      "185 [77 36  4 ..., 15 15 75] 0.366169498262\n"
     ]
    },
    {
     "name": "stdout",
     "output_type": "stream",
     "text": [
      "186 [184 166  36 ...,   2   2  81] 0.363417771449\n",
      "187 [145  23   0 ...,  32  32 161] 0.370308601122\n",
      "188 [  6 124  69 ...,   8   8 121] 0.365032383583\n",
      "189 [129  49 119 ...,   2   2   6] 0.367224226493\n",
      "190 [178  18  41 ..., 122 122  46] 0.366812862476\n",
      "191 [ 40  14   9 ...,  34  34 109] 0.367921556626\n",
      "192 [165  38 168 ...,  71  71  23] 0.369456547161\n",
      "193 [ 64 160  58 ..., 183 183  20] 0.371122472825\n",
      "194 [22 17 97 ..., 99 99 29] 0.374306573477\n",
      "195 [109   8  25 ..., 178 178 160] 0.369317889566\n",
      "196 [ 98   0 163 ..., 188 188 111] 0.371316492046\n",
      "197 [ 97  47 150 ..., 186 186 113] 0.373560764912\n",
      "198 [ 91  22 183 ...,  80  80  70] 0.36695180932\n",
      "199 [ 54 141 192 ..., 161 161 194] 0.364921399682\n",
      "200 [122 109  28 ..., 192 192   7] 0.374621759632\n",
      "201 [121  31 196 ...,  69  69  54] 0.375451650698\n",
      "202 [189   7  51 ...,  95  95 126] 0.373792489165\n",
      "203 [ 89 170 182 ...,  12  12  23] 0.372193147389\n",
      "204 [96 12  3 ..., 17 17 88] 0.36169602866\n",
      "205 [117 180  74 ..., 156 156 120] 0.37019383727\n",
      "206 [ 45  71  70 ..., 190 190 107] 0.365632536011\n",
      "207 [169 141   3 ...,  73  73  25] 0.372740405501\n",
      "208 [167  71  90 ...,  53  53 164] 0.37192250652\n",
      "209 [132  31  37 ..., 127 127  46] 0.367556168396\n",
      "210 [52 89  1 ..., 76 76  2] 0.375820866803\n",
      "211 [133  21 202 ..., 175 175 125] 0.370267644076\n",
      "212 [184 166  36 ...,   2   2 209] 0.371182989853\n",
      "213 [ 86   0 211 ...,  20  20 117] 0.375782908754\n",
      "214 [135  17  10 ...,  12  12  76] 0.369474807998\n",
      "215 [ 22   2 198 ...,  75  75  44] 0.370530085427\n",
      "216 [105   7 129 ..., 164 164  21] 0.373161495764\n",
      "217 [176  17   1 ...,   2   2  39] 0.375369416951\n",
      "218 [162  93  78 ..., 179 179  48] 0.36943477971\n",
      "219 [166  23   9 ..., 216 216  45] 0.371607136665\n",
      "220 [207 104 110 ..., 111 111 125] 0.371385696105\n",
      "221 [118 199  96 ..., 102 102   1] 0.371745494296\n",
      "222 [ 86 190 207 ..., 128 128  29] 0.378002202173\n",
      "223 [ 21  12  28 ..., 116 116 113] 0.373991455051\n",
      "224 [169 134 142 ..., 188 188 148] 0.380164446064\n",
      "225 [133 164  88 ...,   0   0 210] 0.370954708818\n",
      "226 [ 53   9  15 ..., 155 155   2] 0.380553164382\n",
      "227 [202  16   7 ...,  41  41  36] 0.37748652958\n",
      "228 [151  36  81 ...,   9   9 193] 0.375654365018\n",
      "229 [131  19  10 ...,  63  63  88] 0.376144402285\n",
      "230 [125  11 201 ...,   5   5 219] 0.374590430029\n",
      "231 [142  99 220 ..., 170 170 169] 0.37640686704\n",
      "232 [101  14 127 ...,  93  93  32] 0.375225702459\n",
      "233 [219  11 179 ...,  16  16 118] 0.372735746557\n",
      "234 [ 37  27 171 ...,  13  13 188] 0.373090389895\n",
      "235 [ 45  94 199 ..., 135 135  42] 0.386418315871\n",
      "236 [184 166  36 ...,   2   2 209] 0.378826730869\n",
      "237 [104 173   9 ..., 138 138  90] 0.377839748556\n",
      "238 [184 166  36 ...,   2   2 209] 0.379647599047\n",
      "239 [ 86  41 158 ...,  62  62  15] 0.369902331916\n",
      "240 [104  12 124 ...,  17  17 236] 0.378517051062\n",
      "241 [ 52  27 235 ...,  69  69 177] 0.37613636201\n",
      "242 [199  91   3 ..., 114 114   0] 0.377032868891\n",
      "243 [201 117 184 ...,  50  50 165] 0.376410414448\n",
      "244 [184 166  36 ...,   2   2 209] 0.378090430878\n",
      "245 [212 134  16 ..., 201 201 190] 0.3824007558\n",
      "246 [184 166  36 ...,   2   2 209] 0.378469439247\n",
      "247 [123  15   0 ..., 186 186   8] 0.382103196135\n",
      "248 [184 166  36 ...,   2   2 209] 0.378439349011\n",
      "249 [218 170 112 ...,  14  14 148] 0.383180459957\n",
      "250 [ 94  13  70 ..., 128 128 151] 0.378891895503\n",
      "251 [191  50 208 ..., 185 185  34] 0.382032680334\n",
      "252 [138  15   0 ..., 167 167  13] 0.382114300018\n",
      "253 [97 13 52 ...,  7  7 86] 0.38675801525\n",
      "254 [106 227 235 ..., 177 177  27] 0.378880007827\n",
      "255 [184 166  36 ...,   2   2 209] 0.376546403871\n",
      "256 [ 87 206   4 ...,   6   6  53] 0.383616805751\n",
      "257 [242  19 201 ...,   6   6  38] 0.379255407408\n",
      "258 [151  19   3 ...,  94  94 147] 0.378569257188\n",
      "259 [195  14  61 ..., 117 117 183] 0.377955487735\n",
      "260 [156  29  11 ..., 148 148  55] 0.384048564654\n",
      "261 [127   1  76 ...,  99  99  72] 0.377091942376\n",
      "262 [261  86  71 ...,  58  58  39] 0.380912945296\n",
      "263 [ 77  63 119 ...,  15  15 213] 0.386754904682\n",
      "264 [161   6  79 ..., 245 245 104] 0.376892270129\n",
      "265 [184 166 264 ...,   2   2 209] 0.378832021859\n",
      "266 [254  44  16 ..., 180 180   0] 0.377828524041\n",
      "267 [184 166 264 ...,   2   2 209] 0.378670880555\n",
      "268 [ 96  73 144 ...,  67  67 265] 0.380762317627\n",
      "269 [267   5  65 ..., 247 247  54] 0.382046614311\n",
      "270 [184 166 264 ...,   2   2 209] 0.378483517406\n",
      "271 [104  35  21 ...,  56  56   1] 0.382345372737\n",
      "272 [ 68  10 202 ..., 122 122   8] 0.379918349027\n",
      "273 [226  33  12 ...,  44  44 237] 0.378469018283\n",
      "274 [ 88  36  51 ..., 270 270  29] 0.38283477123\n",
      "275 [ 69   7  81 ..., 176 176  68] 0.387123842379\n",
      "276 [137  14 263 ...,  57  57 207] 0.381971429244\n",
      "277 [ 96  12  32 ...,  95  95 196] 0.380116785731\n",
      "278 [159   7 134 ..., 151 151 211] 0.385040813898\n",
      "279 [ 13  63 152 ..., 119 119   1] 0.384001605982\n",
      "280 [236  15 249 ..., 159 159 197] 0.38350074226\n",
      "281 [ 72 146  96 ...,  78  78  19] 0.380740294762\n",
      "282 [100 166  20 ..., 163 163 268] 0.386893971969\n",
      "283 [202  57 231 ...,  30  30 241] 0.384201887652\n",
      "284 [ 65  10  99 ..., 210 210  24] 0.383739775637\n",
      "285 [135  17 257 ...,  12  12  76] 0.38345242687\n",
      "286 [222   1  67 ..., 169 169  60] 0.380047112507\n",
      "287 [ 87   0  29 ..., 246 246  40] 0.386884162927\n",
      "288 [253 209  18 ...,  44  44 105] 0.3856428553\n",
      "289 [100  91  15 ...,   6   6  97] 0.384369460039\n",
      "290 [284 167  64 ...,   2   2  52] 0.383041389516\n",
      "291 [219 207 115 ...,  89  89 144] 0.391503149214\n",
      "292 [221   2 163 ...,   0   0 210] 0.384391305983\n",
      "293 [113  98 203 ...,   7   7  72] 0.385751926896\n",
      "294 [223  12 265 ...,  96  96 275] 0.385349485031\n",
      "295 [ 79  64  98 ..., 107 107  36] 0.384773673303\n",
      "296 [163 110   7 ...,  33  33  36] 0.388938925881\n",
      "297 [ 84  15 274 ...,  11  11  86] 0.384736071375\n",
      "298 [200 129 130 ..., 139 139  93] 0.387929724502\n",
      "299 [133 268 261 ...,   8   8  34] 0.389219705667\n"
     ]
    }
   ],
   "source": [
    "kmaens_score = []\n",
    "number_of_clusters = []\n",
    "for i in range(2, 300):\n",
    "    kmeans = KMeans(n_clusters=i, random_state=0).fit(data_for_clustering)\n",
    "    cluster_labels = kmeans.fit_predict(data_for_clustering)\n",
    "    silhouette_avg = silhouette_score(data_for_clustering, cluster_labels)\n",
    "    number_of_clusters.append(i)\n",
    "    kmaens_score.append(silhouette_avg)\n",
    "    print(i, cluster_labels, silhouette_avg)"
   ]
  },
  {
   "cell_type": "code",
   "execution_count": 62,
   "metadata": {},
   "outputs": [
    {
     "data": {
      "image/png": "[encoded data removed]",
      "text/plain": [
       "<matplotlib.figure.Figure at 0x2070135e390>"
      ]
     },
     "metadata": {},
     "output_type": "display_data"
    }
   ],
   "source": [
    "plt.plot(number_of_clusters, kmaens_score)\n",
    "plt.xlabel('Number of clusters')\n",
    "plt.ylabel('Silhouette score');"
   ]
  },
  {
   "cell_type": "markdown",
   "metadata": {},
   "source": [
    "Hierarchical:"
   ]
  },
  {
   "cell_type": "code",
   "execution_count": 45,
   "metadata": {
    "collapsed": true
   },
   "outputs": [],
   "source": [
    "def fancy_dendrogram(*args, **kwargs):\n",
    "    max_d = kwargs.pop('max_d', None)\n",
    "    if max_d and 'color_threshold' not in kwargs:\n",
    "        kwargs['color_threshold'] = max_d\n",
    "    annotate_above = kwargs.pop('annotate_above', 0)\n",
    "\n",
    "    ddata = dendrogram(*args, **kwargs)\n",
    "\n",
    "    if not kwargs.get('no_plot', False):\n",
    "        plt.title('Hierarchical Clustering Dendrogram')\n",
    "        plt.xlabel('sample index or (cluster size)')\n",
    "        plt.ylabel('distance')\n",
    "        for i, d, c in zip(ddata['icoord'], ddata['dcoord'], ddata['color_list']):\n",
    "            x = 0.5 * sum(i[1:3])\n",
    "            y = d[1]\n",
    "        if max_d:\n",
    "            plt.axhline(y=max_d, c='k')\n",
    "    return ddata"
   ]
  },
  {
   "cell_type": "code",
   "execution_count": 48,
   "metadata": {},
   "outputs": [
    {
     "data": {
      "image/png": "[encoded data removed]",
      "text/plain": [
       "<matplotlib.figure.Figure at 0x207090709b0>"
      ]
     },
     "metadata": {},
     "output_type": "display_data"
    }
   ],
   "source": [
    "# data = data[:10000]\n",
    "# dn = hierarchy.dendrogram(Z, color_threshold=0.5)\n",
    "\n",
    "Z = linkage(data_for_clustering, 'ward')\n",
    "plt.figure(figsize=(18, 8))\n",
    "plt.title('Hierarchical Clustering Dendrogram')\n",
    "plt.xlabel('sample index')\n",
    "plt.ylabel('distance')\n",
    "fancy_dendrogram(\n",
    "    Z,\n",
    "    leaf_rotation=90.,  # rotates the x axis labels\n",
    "    leaf_font_size=8.,  # font size for the x axis labels\n",
    "    max_d = 60,\n",
    "    show_leaf_counts=False,\n",
    ")\n",
    "plt.show()"
   ]
  },
  {
   "cell_type": "markdown",
   "metadata": {},
   "source": [
    "DBSCAN:"
   ]
  },
  {
   "cell_type": "code",
   "execution_count": 66,
   "metadata": {
    "scrolled": true
   },
   "outputs": [
    {
     "data": {
      "text/plain": [
       "0.50504866588196595"
      ]
     },
     "execution_count": 66,
     "metadata": {},
     "output_type": "execute_result"
    }
   ],
   "source": [
    "db = DBSCAN(eps=0.3, min_samples=5).fit(data_for_clustering)\n",
    "core_samples_mask = np.zeros_like(db.labels_, dtype=bool)\n",
    "core_samples_mask[db.core_sample_indices_] = True\n",
    "labels = db.labels_\n",
    "silhouette_score(data_for_clustering, labels)"
   ]
  },
  {
   "cell_type": "code",
   "execution_count": 67,
   "metadata": {
    "scrolled": true
   },
   "outputs": [
    {
     "data": {
      "text/plain": [
       "139"
      ]
     },
     "execution_count": 67,
     "metadata": {},
     "output_type": "execute_result"
    }
   ],
   "source": [
    "len(set(labels)) - (1 if -1 in labels else 0)"
   ]
  },
  {
   "cell_type": "code",
   "execution_count": 85,
   "metadata": {
    "collapsed": true
   },
   "outputs": [],
   "source": [
    "indexes = []\n",
    "for i in range(len(labels)):\n",
    "    if labels[i] == 1:\n",
    "        indexes.append(i)"
   ]
  },
  {
   "cell_type": "code",
   "execution_count": 86,
   "metadata": {},
   "outputs": [
    {
     "data": {
      "text/html": [
       "<div>\n",
       "<style>\n",
       "    .dataframe thead tr:only-child th {\n",
       "        text-align: right;\n",
       "    }\n",
       "\n",
       "    .dataframe thead th {\n",
       "        text-align: left;\n",
       "    }\n",
       "\n",
       "    .dataframe tbody tr th {\n",
       "        vertical-align: top;\n",
       "    }\n",
       "</style>\n",
       "<table border=\"1\" class=\"dataframe\">\n",
       "  <thead>\n",
       "    <tr style=\"text-align: right;\">\n",
       "      <th></th>\n",
       "      <th>Age</th>\n",
       "      <th>BMI</th>\n",
       "      <th>endocrinology</th>\n",
       "      <th>digestive</th>\n",
       "      <th>neurology</th>\n",
       "      <th>urinary</th>\n",
       "      <th>musculoskeletal</th>\n",
       "      <th>gynecological</th>\n",
       "      <th>blood</th>\n",
       "      <th>lower_respiratory</th>\n",
       "    </tr>\n",
       "  </thead>\n",
       "  <tbody>\n",
       "    <tr>\n",
       "      <th>3</th>\n",
       "      <td>50.0</td>\n",
       "      <td>24.25</td>\n",
       "      <td>0.0</td>\n",
       "      <td>0.0</td>\n",
       "      <td>0.0</td>\n",
       "      <td>0.0</td>\n",
       "      <td>0.0</td>\n",
       "      <td>0.0</td>\n",
       "      <td>0.0</td>\n",
       "      <td>1.0</td>\n",
       "    </tr>\n",
       "    <tr>\n",
       "      <th>70</th>\n",
       "      <td>54.0</td>\n",
       "      <td>32.22</td>\n",
       "      <td>0.0</td>\n",
       "      <td>0.0</td>\n",
       "      <td>0.0</td>\n",
       "      <td>0.0</td>\n",
       "      <td>0.0</td>\n",
       "      <td>0.0</td>\n",
       "      <td>0.0</td>\n",
       "      <td>1.0</td>\n",
       "    </tr>\n",
       "    <tr>\n",
       "      <th>1201</th>\n",
       "      <td>59.0</td>\n",
       "      <td>22.64</td>\n",
       "      <td>0.0</td>\n",
       "      <td>0.0</td>\n",
       "      <td>0.0</td>\n",
       "      <td>0.0</td>\n",
       "      <td>0.0</td>\n",
       "      <td>0.0</td>\n",
       "      <td>0.0</td>\n",
       "      <td>1.0</td>\n",
       "    </tr>\n",
       "    <tr>\n",
       "      <th>1388</th>\n",
       "      <td>52.0</td>\n",
       "      <td>28.69</td>\n",
       "      <td>0.0</td>\n",
       "      <td>0.0</td>\n",
       "      <td>0.0</td>\n",
       "      <td>0.0</td>\n",
       "      <td>0.0</td>\n",
       "      <td>0.0</td>\n",
       "      <td>0.0</td>\n",
       "      <td>1.0</td>\n",
       "    </tr>\n",
       "    <tr>\n",
       "      <th>1762</th>\n",
       "      <td>51.0</td>\n",
       "      <td>21.60</td>\n",
       "      <td>0.0</td>\n",
       "      <td>0.0</td>\n",
       "      <td>0.0</td>\n",
       "      <td>0.0</td>\n",
       "      <td>0.0</td>\n",
       "      <td>0.0</td>\n",
       "      <td>0.0</td>\n",
       "      <td>1.0</td>\n",
       "    </tr>\n",
       "  </tbody>\n",
       "</table>\n",
       "</div>"
      ],
      "text/plain": [
       "       Age    BMI  endocrinology  digestive  neurology  urinary  \\\n",
       "3     50.0  24.25            0.0        0.0        0.0      0.0   \n",
       "70    54.0  32.22            0.0        0.0        0.0      0.0   \n",
       "1201  59.0  22.64            0.0        0.0        0.0      0.0   \n",
       "1388  52.0  28.69            0.0        0.0        0.0      0.0   \n",
       "1762  51.0  21.60            0.0        0.0        0.0      0.0   \n",
       "\n",
       "      musculoskeletal  gynecological  blood  lower_respiratory  \n",
       "3                 0.0            0.0    0.0                1.0  \n",
       "70                0.0            0.0    0.0                1.0  \n",
       "1201              0.0            0.0    0.0                1.0  \n",
       "1388              0.0            0.0    0.0                1.0  \n",
       "1762              0.0            0.0    0.0                1.0  "
      ]
     },
     "execution_count": 86,
     "metadata": {},
     "output_type": "execute_result"
    }
   ],
   "source": [
    "data.iloc[indexes].head()"
   ]
  },
  {
   "cell_type": "markdown",
   "metadata": {},
   "source": [
    "Classification:"
   ]
  },
  {
   "cell_type": "code",
   "execution_count": 42,
   "metadata": {
    "collapsed": true
   },
   "outputs": [],
   "source": [
    "def to_binary(v):\n",
    "    if -0.74 < v < -0.73:\n",
    "        return 0\n",
    "    else:\n",
    "        return 1"
   ]
  },
  {
   "cell_type": "code",
   "execution_count": 61,
   "metadata": {
    "collapsed": true
   },
   "outputs": [],
   "source": [
    "data['Gender'] = data['Gender'].apply(to_binary)\n",
    "y = data['Gender']\n",
    "data.drop('Gender', axis=1, inplace=True)"
   ]
  },
  {
   "cell_type": "code",
   "execution_count": 96,
   "metadata": {
    "collapsed": true
   },
   "outputs": [],
   "source": [
    "# y.value_counts()"
   ]
  },
  {
   "cell_type": "code",
   "execution_count": 45,
   "metadata": {
    "collapsed": true
   },
   "outputs": [],
   "source": [
    "X_train, X_valid, y_train, y_valid = train_test_split(data.values, y.values, test_size=.3, random_state=14)"
   ]
  },
  {
   "cell_type": "markdown",
   "metadata": {},
   "source": [
    "Logistic Regression:"
   ]
  },
  {
   "cell_type": "code",
   "execution_count": 82,
   "metadata": {},
   "outputs": [
    {
     "data": {
      "text/plain": [
       "0.70210273170130111"
      ]
     },
     "execution_count": 82,
     "metadata": {},
     "output_type": "execute_result"
    }
   ],
   "source": [
    "LogReg = LogisticRegression()\n",
    "LogReg.fit(X_train, y_train)\n",
    "y_pred = LogReg.predict(X_valid)\n",
    "accuracy_score(y_valid, y_pred)"
   ]
  },
  {
   "cell_type": "markdown",
   "metadata": {},
   "source": [
    "Random forest:"
   ]
  },
  {
   "cell_type": "code",
   "execution_count": 88,
   "metadata": {},
   "outputs": [
    {
     "data": {
      "text/plain": [
       "GridSearchCV(cv=5, error_score='raise',\n",
       "       estimator=RandomForestClassifier(bootstrap=True, class_weight=None, criterion='gini',\n",
       "            max_depth=None, max_features='auto', max_leaf_nodes=None,\n",
       "            min_impurity_decrease=0.0, min_impurity_split=None,\n",
       "            min_samples_leaf=1, min_samples_split=2,\n",
       "            min_weight_fraction_leaf=0.0, n_estimators=10, n_jobs=1,\n",
       "            oob_score=False, random_state=17, verbose=0, warm_start=False),\n",
       "       fit_params=None, iid=True, n_jobs=1,\n",
       "       param_grid={'max_depth': [1, 2, 3, 4, 5, 6, 7, 8, 9, 10, 11, 12, 13, 14, 15, 16, 17, 18, 19, 20, 21, 22, 23, 24, 25, 26, 27, 28, 29, 30, 31, 32, 33, 34, 35, 36, 37, 38, 39, 40, 41, 42, 43, 44, 45, 46, 47, 48, 49]},\n",
       "       pre_dispatch='2*n_jobs', refit=True, return_train_score='warn',\n",
       "       scoring='accuracy', verbose=0)"
      ]
     },
     "execution_count": 88,
     "metadata": {},
     "output_type": "execute_result"
    }
   ],
   "source": [
    "tree_params = {'max_depth': list(range(1, 50))}\n",
    "\n",
    "tree_grid = GridSearchCV(RandomForestClassifier(random_state=17), \n",
    "                         tree_params, \n",
    "                         cv=5, scoring='accuracy') \n",
    "\n",
    "tree_grid.fit(X_train, y_train)"
   ]
  },
  {
   "cell_type": "code",
   "execution_count": 89,
   "metadata": {},
   "outputs": [
    {
     "data": {
      "image/png": "[encoded data removed]",
      "text/plain": [
       "<matplotlib.figure.Figure at 0x1939c737e48>"
      ]
     },
     "metadata": {},
     "output_type": "display_data"
    }
   ],
   "source": [
    "plt.plot(tree_params['max_depth'], \n",
    "         tree_grid.cv_results_['mean_test_score'])\n",
    "plt.xlabel('Max depth')\n",
    "plt.ylabel('Mean CV accuracy');"
   ]
  },
  {
   "cell_type": "code",
   "execution_count": 90,
   "metadata": {},
   "outputs": [
    {
     "name": "stdout",
     "output_type": "stream",
     "text": [
      "Best params: {'max_depth': 34}\n",
      "Best cross validaton score 0.791473954066\n"
     ]
    }
   ],
   "source": [
    "print(\"Best params:\", tree_grid.best_params_)\n",
    "print(\"Best cross validaton score\", tree_grid.best_score_)"
   ]
  },
  {
   "cell_type": "code",
   "execution_count": 91,
   "metadata": {},
   "outputs": [
    {
     "data": {
      "text/plain": [
       "0.81056915582413513"
      ]
     },
     "execution_count": 91,
     "metadata": {},
     "output_type": "execute_result"
    }
   ],
   "source": [
    "tuned_tree_acc_valid = accuracy_score(y_valid, tree_grid.predict(X_valid))\n",
    "tuned_tree_acc_valid"
   ]
  },
  {
   "cell_type": "code",
   "execution_count": 94,
   "metadata": {},
   "outputs": [
    {
     "name": "stdout",
     "output_type": "stream",
     "text": [
      "             precision    recall  f1-score   support\n",
      "\n",
      "          0       0.84      0.88      0.86     10608\n",
      "          1       0.75      0.67      0.71      5609\n",
      "\n",
      "avg / total       0.81      0.81      0.81     16217\n",
      "\n"
     ]
    }
   ],
   "source": [
    "from sklearn.metrics import classification_report\n",
    "\n",
    "print(classification_report(y_valid, tree_grid.predict(X_valid)))"
   ]
  },
  {
   "cell_type": "markdown",
   "metadata": {
    "collapsed": true
   },
   "source": [
    "Naive Bayes classifier:"
   ]
  },
  {
   "cell_type": "code",
   "execution_count": 65,
   "metadata": {},
   "outputs": [
    {
     "name": "stdout",
     "output_type": "stream",
     "text": [
      "0.67330579022\n"
     ]
    }
   ],
   "source": [
    "nb = BernoulliNB() # MultinomialNB\n",
    "nb.fit(X_train, y_train)\n",
    "y_pred_class = nb.predict(X_valid)\n",
    "print(accuracy_score(y_valid, y_pred_class))"
   ]
  },
  {
   "cell_type": "markdown",
   "metadata": {},
   "source": [
    "KNN:"
   ]
  },
  {
   "cell_type": "code",
   "execution_count": 50,
   "metadata": {},
   "outputs": [
    {
     "data": {
      "text/plain": [
       "[<matplotlib.lines.Line2D at 0x1939bde1e10>]"
      ]
     },
     "execution_count": 50,
     "metadata": {},
     "output_type": "execute_result"
    },
    {
     "data": {
      "image/png": "[encoded data removed]",
      "text/plain": [
       "<matplotlib.figure.Figure at 0x1939c8029e8>"
      ]
     },
     "metadata": {},
     "output_type": "display_data"
    }
   ],
   "source": [
    "cv_scores = []\n",
    "n_neighb = [i for i in range(1, 100)]\n",
    "\n",
    "for k in n_neighb:\n",
    "    knn = KNeighborsClassifier(n_neighbors=k)\n",
    "    cv_scores.append(np.mean(cross_val_score(knn, data, y, cv=5, scoring='accuracy')))\n",
    "    knn.fit(X_train, y_train)\n",
    "plt.plot(n_neighb, cv_scores, label='CV');"
   ]
  },
  {
   "cell_type": "code",
   "execution_count": 52,
   "metadata": {},
   "outputs": [
    {
     "data": {
      "text/plain": [
       "(0.70133569716183985, 63)"
      ]
     },
     "execution_count": 52,
     "metadata": {},
     "output_type": "execute_result"
    }
   ],
   "source": [
    "max_i = 0\n",
    "max_v = cv_scores[max_i]\n",
    "\n",
    "for i in range(len(cv_scores)):\n",
    "    if cv_scores[i] > max_v:\n",
    "        max_v = cv_scores[i]\n",
    "        max_i = i\n",
    "max_v, max_i"
   ]
  }
 ],
 "metadata": {
  "kernelspec": {
   "display_name": "Python 3",
   "language": "python",
   "name": "python3"
  },
  "language_info": {
   "codemirror_mode": {
    "name": "ipython",
    "version": 3
   },
   "file_extension": ".py",
   "mimetype": "text/x-python",
   "name": "python",
   "nbconvert_exporter": "python",
   "pygments_lexer": "ipython3",
   "version": "3.6.3"
  }
 },
 "nbformat": 4,
 "nbformat_minor": 2
}
