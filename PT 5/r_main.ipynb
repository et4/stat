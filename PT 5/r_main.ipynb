{
 "cells": [
  {
   "cell_type": "code",
   "execution_count": 32,
   "metadata": {},
   "outputs": [],
   "source": [
    "library(\"xlsx\")\n",
    "library(\"extRemes\")\n",
    "library(\"xts\")\n",
    "library(\"ismev\")\n",
    "library(\"RCurl\")"
   ]
  },
  {
   "cell_type": "code",
   "execution_count": 3,
   "metadata": {
    "collapsed": true
   },
   "outputs": [],
   "source": [
    "data <- read.xlsx(file = \"./Istanbul_StockMarket_09-11.xlsx\", sheetName = 'orjinal data', startRow = 3)"
   ]
  },
  {
   "cell_type": "code",
   "execution_count": 6,
   "metadata": {},
   "outputs": [
    {
     "data": {
      "text/html": [
       "<table>\n",
       "<thead><tr><th scope=col>date</th><th scope=col>ISE</th><th scope=col>USD.BASED.ISE</th><th scope=col>SP</th><th scope=col>DAX</th><th scope=col>FTSE</th><th scope=col>NIKKEI</th><th scope=col>BOVESPA</th><th scope=col>EU</th><th scope=col>EM</th><th scope=col>...</th><th scope=col>NA..1</th><th scope=col>NA..2</th><th scope=col>NA..3</th><th scope=col>NA..4</th><th scope=col>NA..5</th><th scope=col>NA..6</th><th scope=col>NA..7</th><th scope=col>NA..8</th><th scope=col>NA..9</th><th scope=col>NA..10</th></tr></thead>\n",
       "<tbody>\n",
       "\t<tr><td>2009-01-05  </td><td> 0.035753708</td><td> 0.038376187</td><td>-0.004679315</td><td> 0.002193419</td><td> 0.003894376</td><td> 0.000000000</td><td> 0.03119023 </td><td> 0.012698039</td><td> 0.028524462</td><td>...         </td><td>NA          </td><td>NA          </td><td>NA          </td><td>NA          </td><td>NA          </td><td>NA          </td><td>NA          </td><td>NA          </td><td>NA          </td><td>NA          </td></tr>\n",
       "\t<tr><td>2009-01-06  </td><td> 0.025425873</td><td> 0.031812743</td><td> 0.007786738</td><td> 0.008455341</td><td> 0.012865611</td><td> 0.004162452</td><td> 0.01891958 </td><td> 0.011340652</td><td> 0.008772644</td><td>...         </td><td>NA          </td><td>NA          </td><td>NA          </td><td>NA          </td><td>NA          </td><td>NA          </td><td>NA          </td><td>NA          </td><td>NA          </td><td>NA          </td></tr>\n",
       "\t<tr><td>2009-01-07  </td><td>-0.028861730</td><td>-0.026352966</td><td>-0.030469134</td><td>-0.017833062</td><td>-0.028734593</td><td> 0.017292932</td><td>-0.03589858 </td><td>-0.017072795</td><td>-0.020015412</td><td>...         </td><td>NA          </td><td>NA          </td><td>NA          </td><td>NA          </td><td>NA          </td><td>NA          </td><td>NA          </td><td>NA          </td><td>NA          </td><td>NA          </td></tr>\n",
       "\t<tr><td>2009-01-08  </td><td>-0.062208079</td><td>-0.084715902</td><td> 0.003391364</td><td>-0.011726277</td><td>-0.000465999</td><td>-0.040061309</td><td> 0.02828315 </td><td>-0.005560959</td><td>-0.019423778</td><td>...         </td><td>NA          </td><td>NA          </td><td>NA          </td><td>NA          </td><td>NA          </td><td>NA          </td><td>NA          </td><td>NA          </td><td>NA          </td><td>NA          </td></tr>\n",
       "\t<tr><td>2009-01-09  </td><td> 0.009859905</td><td> 0.009658112</td><td>-0.021533208</td><td>-0.019872754</td><td>-0.012709717</td><td>-0.004473502</td><td>-0.00976388 </td><td>-0.010988634</td><td>-0.007802212</td><td>...         </td><td>NA          </td><td>NA          </td><td>NA          </td><td>NA          </td><td>NA          </td><td>NA          </td><td>NA          </td><td>NA          </td><td>NA          </td><td>NA          </td></tr>\n",
       "\t<tr><td>2009-01-12  </td><td>-0.029191028</td><td>-0.042361155</td><td>-0.022822626</td><td>-0.013525735</td><td>-0.005025533</td><td>-0.049038532</td><td>-0.05384947 </td><td>-0.012451259</td><td>-0.022629745</td><td>...         </td><td>NA          </td><td>NA          </td><td>NA          </td><td>NA          </td><td>NA          </td><td>NA          </td><td>NA          </td><td>NA          </td><td>NA          </td><td>NA          </td></tr>\n",
       "</tbody>\n",
       "</table>\n"
      ],
      "text/latex": [
       "\\begin{tabular}{r|lllllllllllllllllllll}\n",
       " date & ISE & USD.BASED.ISE & SP & DAX & FTSE & NIKKEI & BOVESPA & EU & EM & ... & NA..1 & NA..2 & NA..3 & NA..4 & NA..5 & NA..6 & NA..7 & NA..8 & NA..9 & NA..10\\\\\n",
       "\\hline\n",
       "\t 2009-01-05   &  0.035753708 &  0.038376187 & -0.004679315 &  0.002193419 &  0.003894376 &  0.000000000 &  0.03119023  &  0.012698039 &  0.028524462 & ...          & NA           & NA           & NA           & NA           & NA           & NA           & NA           & NA           & NA           & NA          \\\\\n",
       "\t 2009-01-06   &  0.025425873 &  0.031812743 &  0.007786738 &  0.008455341 &  0.012865611 &  0.004162452 &  0.01891958  &  0.011340652 &  0.008772644 & ...          & NA           & NA           & NA           & NA           & NA           & NA           & NA           & NA           & NA           & NA          \\\\\n",
       "\t 2009-01-07   & -0.028861730 & -0.026352966 & -0.030469134 & -0.017833062 & -0.028734593 &  0.017292932 & -0.03589858  & -0.017072795 & -0.020015412 & ...          & NA           & NA           & NA           & NA           & NA           & NA           & NA           & NA           & NA           & NA          \\\\\n",
       "\t 2009-01-08   & -0.062208079 & -0.084715902 &  0.003391364 & -0.011726277 & -0.000465999 & -0.040061309 &  0.02828315  & -0.005560959 & -0.019423778 & ...          & NA           & NA           & NA           & NA           & NA           & NA           & NA           & NA           & NA           & NA          \\\\\n",
       "\t 2009-01-09   &  0.009859905 &  0.009658112 & -0.021533208 & -0.019872754 & -0.012709717 & -0.004473502 & -0.00976388  & -0.010988634 & -0.007802212 & ...          & NA           & NA           & NA           & NA           & NA           & NA           & NA           & NA           & NA           & NA          \\\\\n",
       "\t 2009-01-12   & -0.029191028 & -0.042361155 & -0.022822626 & -0.013525735 & -0.005025533 & -0.049038532 & -0.05384947  & -0.012451259 & -0.022629745 & ...          & NA           & NA           & NA           & NA           & NA           & NA           & NA           & NA           & NA           & NA          \\\\\n",
       "\\end{tabular}\n"
      ],
      "text/markdown": [
       "\n",
       "date | ISE | USD.BASED.ISE | SP | DAX | FTSE | NIKKEI | BOVESPA | EU | EM | ... | NA..1 | NA..2 | NA..3 | NA..4 | NA..5 | NA..6 | NA..7 | NA..8 | NA..9 | NA..10 | \n",
       "|---|---|---|---|---|---|\n",
       "| 2009-01-05   |  0.035753708 |  0.038376187 | -0.004679315 |  0.002193419 |  0.003894376 |  0.000000000 |  0.03119023  |  0.012698039 |  0.028524462 | ...          | NA           | NA           | NA           | NA           | NA           | NA           | NA           | NA           | NA           | NA           | \n",
       "| 2009-01-06   |  0.025425873 |  0.031812743 |  0.007786738 |  0.008455341 |  0.012865611 |  0.004162452 |  0.01891958  |  0.011340652 |  0.008772644 | ...          | NA           | NA           | NA           | NA           | NA           | NA           | NA           | NA           | NA           | NA           | \n",
       "| 2009-01-07   | -0.028861730 | -0.026352966 | -0.030469134 | -0.017833062 | -0.028734593 |  0.017292932 | -0.03589858  | -0.017072795 | -0.020015412 | ...          | NA           | NA           | NA           | NA           | NA           | NA           | NA           | NA           | NA           | NA           | \n",
       "| 2009-01-08   | -0.062208079 | -0.084715902 |  0.003391364 | -0.011726277 | -0.000465999 | -0.040061309 |  0.02828315  | -0.005560959 | -0.019423778 | ...          | NA           | NA           | NA           | NA           | NA           | NA           | NA           | NA           | NA           | NA           | \n",
       "| 2009-01-09   |  0.009859905 |  0.009658112 | -0.021533208 | -0.019872754 | -0.012709717 | -0.004473502 | -0.00976388  | -0.010988634 | -0.007802212 | ...          | NA           | NA           | NA           | NA           | NA           | NA           | NA           | NA           | NA           | NA           | \n",
       "| 2009-01-12   | -0.029191028 | -0.042361155 | -0.022822626 | -0.013525735 | -0.005025533 | -0.049038532 | -0.05384947  | -0.012451259 | -0.022629745 | ...          | NA           | NA           | NA           | NA           | NA           | NA           | NA           | NA           | NA           | NA           | \n",
       "\n",
       "\n"
      ],
      "text/plain": [
       "  date       ISE          USD.BASED.ISE SP           DAX          FTSE        \n",
       "1 2009-01-05  0.035753708  0.038376187  -0.004679315  0.002193419  0.003894376\n",
       "2 2009-01-06  0.025425873  0.031812743   0.007786738  0.008455341  0.012865611\n",
       "3 2009-01-07 -0.028861730 -0.026352966  -0.030469134 -0.017833062 -0.028734593\n",
       "4 2009-01-08 -0.062208079 -0.084715902   0.003391364 -0.011726277 -0.000465999\n",
       "5 2009-01-09  0.009859905  0.009658112  -0.021533208 -0.019872754 -0.012709717\n",
       "6 2009-01-12 -0.029191028 -0.042361155  -0.022822626 -0.013525735 -0.005025533\n",
       "  NIKKEI       BOVESPA     EU           EM           ... NA..1 NA..2 NA..3\n",
       "1  0.000000000  0.03119023  0.012698039  0.028524462 ... NA    NA    NA   \n",
       "2  0.004162452  0.01891958  0.011340652  0.008772644 ... NA    NA    NA   \n",
       "3  0.017292932 -0.03589858 -0.017072795 -0.020015412 ... NA    NA    NA   \n",
       "4 -0.040061309  0.02828315 -0.005560959 -0.019423778 ... NA    NA    NA   \n",
       "5 -0.004473502 -0.00976388 -0.010988634 -0.007802212 ... NA    NA    NA   \n",
       "6 -0.049038532 -0.05384947 -0.012451259 -0.022629745 ... NA    NA    NA   \n",
       "  NA..4 NA..5 NA..6 NA..7 NA..8 NA..9 NA..10\n",
       "1 NA    NA    NA    NA    NA    NA    NA    \n",
       "2 NA    NA    NA    NA    NA    NA    NA    \n",
       "3 NA    NA    NA    NA    NA    NA    NA    \n",
       "4 NA    NA    NA    NA    NA    NA    NA    \n",
       "5 NA    NA    NA    NA    NA    NA    NA    \n",
       "6 NA    NA    NA    NA    NA    NA    NA    "
      ]
     },
     "metadata": {},
     "output_type": "display_data"
    }
   ],
   "source": [
    "head(data)"
   ]
  },
  {
   "cell_type": "code",
   "execution_count": 7,
   "metadata": {
    "collapsed": true
   },
   "outputs": [],
   "source": [
    "time_series <- as.ts(data[c('USD.BASED.ISE')])"
   ]
  },
  {
   "cell_type": "code",
   "execution_count": null,
   "metadata": {
    "collapsed": true
   },
   "outputs": [],
   "source": []
  },
  {
   "cell_type": "code",
   "execution_count": 33,
   "metadata": {
    "collapsed": true
   },
   "outputs": [],
   "source": [
    "data <- read.csv(file = \"./block_mm.csv\")"
   ]
  },
  {
   "cell_type": "code",
   "execution_count": 4,
   "metadata": {},
   "outputs": [
    {
     "data": {
      "text/html": [
       "<table>\n",
       "<thead><tr><th scope=col>X</th><th scope=col>block_max</th><th scope=col>block_min</th></tr></thead>\n",
       "<tbody>\n",
       "\t<tr><td>0          </td><td>0.06170818 </td><td>-0.08471590</td></tr>\n",
       "\t<tr><td>1          </td><td>0.05133066 </td><td>-0.05068749</td></tr>\n",
       "\t<tr><td>2          </td><td>0.07300541 </td><td>-0.04356168</td></tr>\n",
       "\t<tr><td>3          </td><td>0.06128487 </td><td>-0.04329707</td></tr>\n",
       "\t<tr><td>4          </td><td>0.05033939 </td><td>-0.01647775</td></tr>\n",
       "\t<tr><td>5          </td><td>0.04076084 </td><td>-0.03654978</td></tr>\n",
       "</tbody>\n",
       "</table>\n"
      ],
      "text/latex": [
       "\\begin{tabular}{r|lll}\n",
       " X & block\\_max & block\\_min\\\\\n",
       "\\hline\n",
       "\t 0           & 0.06170818  & -0.08471590\\\\\n",
       "\t 1           & 0.05133066  & -0.05068749\\\\\n",
       "\t 2           & 0.07300541  & -0.04356168\\\\\n",
       "\t 3           & 0.06128487  & -0.04329707\\\\\n",
       "\t 4           & 0.05033939  & -0.01647775\\\\\n",
       "\t 5           & 0.04076084  & -0.03654978\\\\\n",
       "\\end{tabular}\n"
      ],
      "text/markdown": [
       "\n",
       "X | block_max | block_min | \n",
       "|---|---|---|---|---|---|\n",
       "| 0           | 0.06170818  | -0.08471590 | \n",
       "| 1           | 0.05133066  | -0.05068749 | \n",
       "| 2           | 0.07300541  | -0.04356168 | \n",
       "| 3           | 0.06128487  | -0.04329707 | \n",
       "| 4           | 0.05033939  | -0.01647775 | \n",
       "| 5           | 0.04076084  | -0.03654978 | \n",
       "\n",
       "\n"
      ],
      "text/plain": [
       "  X block_max  block_min  \n",
       "1 0 0.06170818 -0.08471590\n",
       "2 1 0.05133066 -0.05068749\n",
       "3 2 0.07300541 -0.04356168\n",
       "4 3 0.06128487 -0.04329707\n",
       "5 4 0.05033939 -0.01647775\n",
       "6 5 0.04076084 -0.03654978"
      ]
     },
     "metadata": {},
     "output_type": "display_data"
    }
   ],
   "source": [
    "head(data)"
   ]
  },
  {
   "cell_type": "code",
   "execution_count": 6,
   "metadata": {
    "collapsed": true
   },
   "outputs": [],
   "source": [
    "ts <- as.ts(data[c('block_max')])\n",
    "ats <- as.numeric(as.ts(data[c('block_max')]))"
   ]
  },
  {
   "cell_type": "code",
   "execution_count": 7,
   "metadata": {},
   "outputs": [
    {
     "data": {
      "image/png": "[encoded data removed]",
      "text/plain": [
       "plot without title"
      ]
     },
     "metadata": {},
     "output_type": "display_data"
    }
   ],
   "source": [
    "plot(ts, col = \"darkblue\", lwd = 1.5, cex.lab = 1.25, xlab = \"Months\", ylab = \"Maximum value in month\")"
   ]
  },
  {
   "cell_type": "code",
   "execution_count": 8,
   "metadata": {},
   "outputs": [
    {
     "data": {
      "text/html": [
       "<dl class=dl-horizontal>\n",
       "\t<dt>location</dt>\n",
       "\t\t<dd>0.0365574971708529</dd>\n",
       "\t<dt>scale</dt>\n",
       "\t\t<dd>0.0119928231051579</dd>\n",
       "\t<dt>shape</dt>\n",
       "\t\t<dd>0.162070730956081</dd>\n",
       "\t<dt>nllh</dt>\n",
       "\t\t<dd>-49.5236160572543</dd>\n",
       "\t<dt>location.location</dt>\n",
       "\t\t<dd>1.06202286269368e-05</dd>\n",
       "\t<dt>scale.location</dt>\n",
       "\t\t<dd>4.51576888717896e-06</dd>\n",
       "\t<dt>shape.location</dt>\n",
       "\t\t<dd>-0.000246075396886908</dd>\n",
       "\t<dt>location.scale</dt>\n",
       "\t\t<dd>4.51576888717896e-06</dd>\n",
       "\t<dt>scale.scale</dt>\n",
       "\t\t<dd>6.24998650515512e-06</dd>\n",
       "\t<dt>shape.scale</dt>\n",
       "\t\t<dd>-9.3670621795901e-05</dd>\n",
       "\t<dt>location.shape</dt>\n",
       "\t\t<dd>-0.000246075396886908</dd>\n",
       "\t<dt>scale.shape</dt>\n",
       "\t\t<dd>-9.3670621795901e-05</dd>\n",
       "\t<dt>shape.shape</dt>\n",
       "\t\t<dd>0.0440430458917265</dd>\n",
       "</dl>\n"
      ],
      "text/latex": [
       "\\begin{description*}\n",
       "\\item[location] 0.0365574971708529\n",
       "\\item[scale] 0.0119928231051579\n",
       "\\item[shape] 0.162070730956081\n",
       "\\item[nllh] -49.5236160572543\n",
       "\\item[location.location] 1.06202286269368e-05\n",
       "\\item[scale.location] 4.51576888717896e-06\n",
       "\\item[shape.location] -0.000246075396886908\n",
       "\\item[location.scale] 4.51576888717896e-06\n",
       "\\item[scale.scale] 6.24998650515512e-06\n",
       "\\item[shape.scale] -9.3670621795901e-05\n",
       "\\item[location.shape] -0.000246075396886908\n",
       "\\item[scale.shape] -9.3670621795901e-05\n",
       "\\item[shape.shape] 0.0440430458917265\n",
       "\\end{description*}\n"
      ],
      "text/markdown": [
       "location\n",
       ":   0.0365574971708529scale\n",
       ":   0.0119928231051579shape\n",
       ":   0.162070730956081nllh\n",
       ":   -49.5236160572543location.location\n",
       ":   1.06202286269368e-05scale.location\n",
       ":   4.51576888717896e-06shape.location\n",
       ":   -0.000246075396886908location.scale\n",
       ":   4.51576888717896e-06scale.scale\n",
       ":   6.24998650515512e-06shape.scale\n",
       ":   -9.3670621795901e-05location.shape\n",
       ":   -0.000246075396886908scale.shape\n",
       ":   -9.3670621795901e-05shape.shape\n",
       ":   0.0440430458917265\n",
       "\n"
      ],
      "text/plain": [
       "         location             scale             shape              nllh \n",
       "     3.655750e-02      1.199282e-02      1.620707e-01     -4.952362e+01 \n",
       "location.location    scale.location    shape.location    location.scale \n",
       "     1.062023e-05      4.515769e-06     -2.460754e-04      4.515769e-06 \n",
       "      scale.scale       shape.scale    location.shape       scale.shape \n",
       "     6.249987e-06     -9.367062e-05     -2.460754e-04     -9.367062e-05 \n",
       "      shape.shape \n",
       "     4.404305e-02 "
      ]
     },
     "metadata": {},
     "output_type": "display_data"
    }
   ],
   "source": [
    "fit1 <- fevd(ats, units = \"deg C\")\n",
    "distill(fit1)"
   ]
  },
  {
   "cell_type": "code",
   "execution_count": 9,
   "metadata": {
    "scrolled": false
   },
   "outputs": [
    {
     "data": {
      "text/plain": [
       "fevd(x = ats, units = \"deg C\")\n",
       "return.level.fevd.mle(x = fit1)\n",
       "[1] \"GEV model fitted to ats (deg C)\"\n",
       "Data are assumed to be  stationary \n",
       "[1] \"Return Levels for period units in years\"\n",
       "  2-year level  20-year level 100-year level \n",
       "    0.04108619     0.08231079     0.11851704 "
      ]
     },
     "metadata": {},
     "output_type": "display_data"
    },
    {
     "data": {
      "text/plain": [
       "fevd(x = ats, units = \"deg C\")\n",
       "\n",
       "[1] \"Normal Approx.\"\n",
       "\n",
       "                      95% lower CI   Estimate 95% upper CI\n",
       "2-year return level     0.03362775 0.04108619   0.04854464\n",
       "20-year return level    0.04924423 0.08231079   0.11537734\n",
       "100-year return level   0.03167318 0.11851704   0.20536090\n"
      ]
     },
     "metadata": {},
     "output_type": "display_data"
    },
    {
     "ename": "ERROR",
     "evalue": "Error in rlevd(period = return.period, loc = loc, scale = scale, shape = shape, : rlevd: invalid period argument.  Must be greater than 1.\n",
     "output_type": "error",
     "traceback": [
      "Error in rlevd(period = return.period, loc = loc, scale = scale, shape = shape, : rlevd: invalid period argument.  Must be greater than 1.\nTraceback:\n",
      "1. ci(fit1, return.period = c(0.2, 2, 10))",
      "2. ci.fevd(fit1, return.period = c(0.2, 2, 10))",
      "3. ci.fevd.mle(fit1, return.period = c(0.2, 2, 10))",
      "4. rlevd(period = return.period, loc = loc, scale = scale, shape = shape, \n .     threshold = x$threshold, type = mod, npy = x$npy, rate = lam)",
      "5. stop(\"rlevd: invalid period argument.  Must be greater than 1.\")"
     ]
    },
    {
     "data": {
      "image/png": "[encoded data removed]",
      "text/plain": [
       "Plot with title \"\""
      ]
     },
     "metadata": {},
     "output_type": "display_data"
    }
   ],
   "source": [
    "plot(fit1)\n",
    "# plot(fit1, \"trace\")\n",
    "return.level(fit1)\n",
    "return.level(fit1, do.ci = TRUE)\n",
    "ci(fit1, return.period = c(0.2, 2, 10))"
   ]
  },
  {
   "cell_type": "code",
   "execution_count": null,
   "metadata": {
    "collapsed": true
   },
   "outputs": [],
   "source": [
    "ci(fit1, type = \"parameter\")"
   ]
  },
  {
   "cell_type": "code",
   "execution_count": null,
   "metadata": {
    "collapsed": true
   },
   "outputs": [],
   "source": [
    "fit0 <- fevd(ts, type = \"Gumbel\", units = \"deg C\")\n",
    "plot(fit0)\n",
    "plot(fit0, \"trace\")"
   ]
  },
  {
   "cell_type": "code",
   "execution_count": null,
   "metadata": {
    "collapsed": true
   },
   "outputs": [],
   "source": [
    "threshrange.plot(ts, r = c(1, 15), nint = 20)\n",
    "mrlplot(ts, xlim = c(0, 12))"
   ]
  },
  {
   "cell_type": "code",
   "execution_count": 10,
   "metadata": {},
   "outputs": [
    {
     "data": {
      "image/png": "[encoded data removed]",
      "text/plain": [
       "Plot with title \"\""
      ]
     },
     "metadata": {},
     "output_type": "display_data"
    },
    {
     "data": {
      "image/png": "[encoded data removed]",
      "text/plain": [
       "Plot with title \"\""
      ]
     },
     "metadata": {},
     "output_type": "display_data"
    }
   ],
   "source": [
    "fit0 <- fevd(data$block_max, data, type = \"Gumbel\", units = \"deg C\")\n",
    "plot(fit0)\n",
    "plot(fit0, \"trace\")"
   ]
  },
  {
   "cell_type": "code",
   "execution_count": 11,
   "metadata": {},
   "outputs": [
    {
     "data": {
      "text/plain": [
       "fevd(x = data$block_max, data = data, method = \"Lmoments\")\n",
       "\n",
       "[1] \"Parametric Bootstrap\"\n",
       "502  iterations\n",
       "\n",
       "[1] \"100-year level: 0.123\"\n",
       "\n",
       "[1] \"95% Confidence Interval: (0.0661, 0.2212)\"\n"
      ]
     },
     "metadata": {},
     "output_type": "display_data"
    },
    {
     "data": {
      "text/plain": [
       "fevd(x = data$block_max, data = data, method = \"Lmoments\")\n",
       "\n",
       "[1] \"Parametric Bootstrap\"\n",
       "502  iterations\n",
       "\n",
       "                 2.5%   Estimate      97.5%\n",
       "location  0.030007960 0.03602595 0.04306998\n",
       "scale     0.007629487 0.01227236 0.01917202\n",
       "shape    -0.290986930 0.17435505 0.50308931\n"
      ]
     },
     "metadata": {},
     "output_type": "display_data"
    },
    {
     "data": {
      "image/png": "[encoded data removed]",
      "text/plain": [
       "Plot with title \"\""
      ]
     },
     "metadata": {},
     "output_type": "display_data"
    }
   ],
   "source": [
    "fitLM <- fevd(data$block_max, data, method = \"Lmoments\")\n",
    "plot(fitLM)\n",
    "ci(fitLM)\n",
    "ci(fitLM, type = \"parameter\")"
   ]
  },
  {
   "cell_type": "code",
   "execution_count": 65,
   "metadata": {
    "collapsed": true
   },
   "outputs": [],
   "source": [
    "library(\"quantmod\")\n",
    "library(\"PerformanceAnalytics\")"
   ]
  },
  {
   "cell_type": "code",
   "execution_count": 66,
   "metadata": {},
   "outputs": [
    {
     "ename": "ERROR",
     "evalue": "Error in VaR(data$block_max, p = 0.95, method = \"historical\"): object not of class 'arx', 'gets' nor 'isat'\n",
     "output_type": "error",
     "traceback": [
      "Error in VaR(data$block_max, p = 0.95, method = \"historical\"): object not of class 'arx', 'gets' nor 'isat'\nTraceback:\n",
      "1. VaR(data$block_max, p = 0.95, method = \"historical\")",
      "2. stop(\"object not of class 'arx', 'gets' nor 'isat'\")"
     ]
    }
   ],
   "source": [
    "VaR(data$block_max, p=0.95, method = \"historical\")"
   ]
  },
  {
   "cell_type": "code",
   "execution_count": 28,
   "metadata": {},
   "outputs": [
    {
     "data": {
      "text/html": [
       "<ol class=list-inline>\n",
       "\t<li>0.061708176</li>\n",
       "\t<li>0.051330657</li>\n",
       "\t<li>0.073005406</li>\n",
       "\t<li>0.06128487</li>\n",
       "\t<li>0.050339385</li>\n",
       "\t<li>0.040760842</li>\n",
       "\t<li>0.044574339</li>\n",
       "\t<li>0.045764354</li>\n",
       "\t<li>0.034372174</li>\n",
       "\t<li>0.032506145</li>\n",
       "\t<li>0.034281823</li>\n",
       "\t<li>0.100620694</li>\n",
       "\t<li>0.026056594</li>\n",
       "\t<li>0.027040454</li>\n",
       "\t<li>0.037795036</li>\n",
       "\t<li>0.042670292</li>\n",
       "\t<li>0.022188263</li>\n",
       "\t<li>0.035256817</li>\n",
       "</ol>\n"
      ],
      "text/latex": [
       "\\begin{enumerate*}\n",
       "\\item 0.061708176\n",
       "\\item 0.051330657\n",
       "\\item 0.073005406\n",
       "\\item 0.06128487\n",
       "\\item 0.050339385\n",
       "\\item 0.040760842\n",
       "\\item 0.044574339\n",
       "\\item 0.045764354\n",
       "\\item 0.034372174\n",
       "\\item 0.032506145\n",
       "\\item 0.034281823\n",
       "\\item 0.100620694\n",
       "\\item 0.026056594\n",
       "\\item 0.027040454\n",
       "\\item 0.037795036\n",
       "\\item 0.042670292\n",
       "\\item 0.022188263\n",
       "\\item 0.035256817\n",
       "\\end{enumerate*}\n"
      ],
      "text/markdown": [
       "1. 0.061708176\n",
       "2. 0.051330657\n",
       "3. 0.073005406\n",
       "4. 0.06128487\n",
       "5. 0.050339385\n",
       "6. 0.040760842\n",
       "7. 0.044574339\n",
       "8. 0.045764354\n",
       "9. 0.034372174\n",
       "10. 0.032506145\n",
       "11. 0.034281823\n",
       "12. 0.100620694\n",
       "13. 0.026056594\n",
       "14. 0.027040454\n",
       "15. 0.037795036\n",
       "16. 0.042670292\n",
       "17. 0.022188263\n",
       "18. 0.035256817\n",
       "\n",
       "\n"
      ],
      "text/plain": [
       " [1] 0.06170818 0.05133066 0.07300541 0.06128487 0.05033939 0.04076084\n",
       " [7] 0.04457434 0.04576435 0.03437217 0.03250615 0.03428182 0.10062069\n",
       "[13] 0.02605659 0.02704045 0.03779504 0.04267029 0.02218826 0.03525682"
      ]
     },
     "metadata": {},
     "output_type": "display_data"
    }
   ],
   "source": [
    "data$block_max"
   ]
  },
  {
   "cell_type": "code",
   "execution_count": 31,
   "metadata": {},
   "outputs": [
    {
     "data": {
      "text/html": [
       "<table>\n",
       "<tbody>\n",
       "\t<tr><th scope=row>ES</th><td>-0.08249416</td></tr>\n",
       "</tbody>\n",
       "</table>\n"
      ],
      "text/latex": [
       "\\begin{tabular}{r|l}\n",
       "\tES & -0.08249416\\\\\n",
       "\\end{tabular}\n"
      ],
      "text/markdown": [
       "\n",
       "| ES | -0.08249416 | \n",
       "\n",
       "\n"
      ],
      "text/plain": [
       "   [,1]       \n",
       "ES -0.08249416"
      ]
     },
     "metadata": {},
     "output_type": "display_data"
    }
   ],
   "source": [
    "ES(data$block_min, p=0.95)"
   ]
  },
  {
   "cell_type": "code",
   "execution_count": 55,
   "metadata": {
    "collapsed": true
   },
   "outputs": [],
   "source": [
    "x <- seq(0.9, 0.999, by=0.001)\n",
    "curve <- list()\n",
    "i <- 1\n",
    "for (p in x){\n",
    "    curve[[i]] <- VaR(data$block_min, p=p, weights = NULL, portfolio_method = \"single\", method = \"gaussian\")\n",
    "    i <- i + 1\n",
    "}"
   ]
  },
  {
   "cell_type": "code",
   "execution_count": 56,
   "metadata": {
    "scrolled": false
   },
   "outputs": [
    {
     "data": {
      "image/png": "[encoded data removed]",
      "text/plain": [
       "plot without title"
      ]
     },
     "metadata": {},
     "output_type": "display_data"
    }
   ],
   "source": [
    "plot(x, curve)"
   ]
  },
  {
   "cell_type": "code",
   "execution_count": null,
   "metadata": {
    "collapsed": true
   },
   "outputs": [],
   "source": []
  },
  {
   "cell_type": "code",
   "execution_count": 63,
   "metadata": {},
   "outputs": [
    {
     "ename": "ERROR",
     "evalue": "Error in gen.gev(p = params, n = 25): could not find function \"gen.gev\"\n",
     "output_type": "error",
     "traceback": [
      "Error in gen.gev(p = params, n = 25): could not find function \"gen.gev\"\nTraceback:\n"
     ]
    }
   ],
   "source": [
    "# obtain a GEV with mean, 4, scale 1.5 and shape of -0.1\n",
    "mu <- 4 # location parameter\n",
    "sigma <- 1.5 # scale parameter\n",
    "xi <- -0.1 # shape parameter\n",
    "\n",
    "params <- c( mu, sigma, xi)\n",
    "\n",
    "# generate a sample of size 25\n",
    "gen1 <- gen.gev( p=params, n=25)\n",
    "\n",
    "# Now generate one with a trend.\n",
    "gen2 <- gen.gev( p=params, n=25, trend=0.1)\n",
    "\n",
    "# Fit 'gen1' to a GEV distribution and plot the diagnostics.\n",
    "gen1.fit <- gev.fit( gen1)\n",
    "class( gen1.fit) <- \"gev.fit\"\n",
    "plot( gen1.fit)\n",
    "\n",
    "# Fit 'gen2' to a GEV distribution and plot the diagnostics.\n",
    "gen2.fit1 <- gev.fit( gen2)\n",
    "class( gen2.fit1) <- \"gev.fit\"\n",
    "plot( gen2.fit1)"
   ]
  },
  {
   "cell_type": "code",
   "execution_count": null,
   "metadata": {
    "collapsed": true
   },
   "outputs": [],
   "source": []
  },
  {
   "cell_type": "code",
   "execution_count": 15,
   "metadata": {},
   "outputs": [],
   "source": [
    "library(\"gets\")"
   ]
  },
  {
   "cell_type": "code",
   "execution_count": 19,
   "metadata": {},
   "outputs": [],
   "source": [
    "mymodel <- arx(data$block_min, arch=1)\n",
    "res <- VaR(mymodel, level=c(0.99, 0.95, 0.9))"
   ]
  },
  {
   "cell_type": "code",
   "execution_count": 20,
   "metadata": {},
   "outputs": [
    {
     "data": {
      "text/plain": [
       "      VaR0.99    VaR0.95     VaR0.9\n",
       "1          NA         NA         NA\n",
       "2  0.05933925 0.05274744 0.04745738\n",
       "3  0.06418951 0.05705890 0.05133645\n",
       "4  0.06569448 0.05839669 0.05254007\n",
       "5  0.06575574 0.05845114 0.05258906\n",
       "6  0.07622786 0.06775995 0.06096429\n",
       "7  0.06748205 0.05998568 0.05396970\n",
       "8  0.06762394 0.06011181 0.05408318\n",
       "9  0.06795842 0.06040913 0.05435068\n",
       "10 0.07050216 0.06267030 0.05638508\n",
       "11 0.06360221 0.05653684 0.05086675\n",
       "12 0.07488769 0.06656865 0.05989246\n",
       "13 0.06021635 0.05352710 0.04815886\n",
       "14 0.07012097 0.06233146 0.05608022\n",
       "15 0.07123479 0.06332154 0.05697101\n",
       "16 0.07979123 0.07092747 0.06381414\n",
       "17 0.06588719 0.05856799 0.05269419\n",
       "18 0.06891693 0.06126117 0.05511727"
      ]
     },
     "metadata": {},
     "output_type": "display_data"
    }
   ],
   "source": [
    "res"
   ]
  },
  {
   "cell_type": "code",
   "execution_count": 39,
   "metadata": {},
   "outputs": [
    {
     "data": {
      "image/png": "[encoded data removed]",
      "text/plain": [
       "Plot with title \"\""
      ]
     },
     "metadata": {},
     "output_type": "display_data"
    },
    {
     "data": {
      "image/png": "[encoded data removed]",
      "text/plain": [
       "Plot with title \"\""
      ]
     },
     "metadata": {},
     "output_type": "display_data"
    }
   ],
   "source": [
    "plot(res[,1]) # res[2:18,3]\n",
    "plot(res[,2]) # res[2:18,3]"
   ]
  },
  {
   "cell_type": "code",
   "execution_count": null,
   "metadata": {
    "collapsed": true
   },
   "outputs": [],
   "source": []
  }
 ],
 "metadata": {
  "kernelspec": {
   "display_name": "R",
   "language": "R",
   "name": "ir"
  },
  "language_info": {
   "codemirror_mode": "r",
   "file_extension": ".r",
   "mimetype": "text/x-r-source",
   "name": "R",
   "pygments_lexer": "r",
   "version": "3.4.3"
  }
 },
 "nbformat": 4,
 "nbformat_minor": 2
}
